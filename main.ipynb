{
 "cells": [
  {
   "cell_type": "code",
   "execution_count": 1,
   "source": [
    "from flask import Flask\n",
    "from werkzeug.wrappers import Request, Response\n",
    "\n",
    "from tensorflow.keras.models import Sequential\n",
    "from tensorflow.keras.layers import Dense, Activation\n",
    "from tensorflow.keras.callbacks import EarlyStopping\n",
    "\n",
    "from sklearn.model_selection import train_test_split\n",
    "from sklearn import metrics\n",
    "\n",
    "import pandas as pd\n",
    "import numpy as np\n",
    "\n",
    "import os\n",
    "import io\n",
    "import requests\n",
    "\n",
    "\n",
    "app = Flask(__name__)\n",
    "\n",
    "@app.route('/')\n",
    "def index():\n",
    "    return 'Hello World'\n",
    "\n",
    "if __name__ == \"__main__\":\n",
    "    from werkzeug.serving import run_simple\n",
    "    run_simple('localhost', 9000, app)"
   ],
   "outputs": [
    {
     "output_type": "stream",
     "name": "stderr",
     "text": [
      " * Running on http://localhost:9000/ (Press CTRL+C to quit)\n"
     ]
    }
   ],
   "metadata": {}
  },
  {
   "cell_type": "code",
   "execution_count": 2,
   "source": [
    "df = pd.read_csv('Data/auto-mpg.csv', na_values=['NA', '?'])\n",
    "print(df.head(10))"
   ],
   "outputs": [
    {
     "output_type": "stream",
     "name": "stdout",
     "text": [
      "    mpg  cylinders  displacement  horsepower  weight  acceleration  \\\n",
      "0  18.0          8         307.0       130.0    3504          12.0   \n",
      "1  15.0          8         350.0       165.0    3693          11.5   \n",
      "2  18.0          8         318.0       150.0    3436          11.0   \n",
      "3  16.0          8         304.0       150.0    3433          12.0   \n",
      "4  17.0          8         302.0       140.0    3449          10.5   \n",
      "5  15.0          8         429.0       198.0    4341          10.0   \n",
      "6  14.0          8         454.0       220.0    4354           9.0   \n",
      "7  14.0          8         440.0       215.0    4312           8.5   \n",
      "8  14.0          8         455.0       225.0    4425          10.0   \n",
      "9  15.0          8         390.0       190.0    3850           8.5   \n",
      "\n",
      "   model year  origin                   car name  \n",
      "0          70       1  chevrolet chevelle malibu  \n",
      "1          70       1          buick skylark 320  \n",
      "2          70       1         plymouth satellite  \n",
      "3          70       1              amc rebel sst  \n",
      "4          70       1                ford torino  \n",
      "5          70       1           ford galaxie 500  \n",
      "6          70       1           chevrolet impala  \n",
      "7          70       1          plymouth fury iii  \n",
      "8          70       1           pontiac catalina  \n",
      "9          70       1         amc ambassador dpl  \n"
     ]
    }
   ],
   "metadata": {}
  },
  {
   "cell_type": "code",
   "execution_count": null,
   "source": [
    "# Count the null values \n",
    "df.isnull().sum()"
   ],
   "outputs": [
    {
     "output_type": "execute_result",
     "data": {
      "text/plain": [
       "mpg             0\n",
       "cylinders       0\n",
       "displacement    0\n",
       "horsepower      6\n",
       "weight          0\n",
       "acceleration    0\n",
       "model year      0\n",
       "origin          0\n",
       "car name        0\n",
       "dtype: int64"
      ]
     },
     "metadata": {},
     "execution_count": 3
    }
   ],
   "metadata": {}
  },
  {
   "cell_type": "code",
   "execution_count": null,
   "source": [
    "# Filling the null values will the median value\n",
    "df['horsepower'] = df['horsepower'].fillna(df['horsepower'].median())"
   ],
   "outputs": [],
   "metadata": {}
  },
  {
   "cell_type": "code",
   "execution_count": null,
   "source": [
    "# Take only the relevent columns and convert them to a numpy array (.values)\n",
    "x = df[['cylinders', 'displacement', 'horsepower', 'weight', 'acceleration', 'model year', 'origin']].values\n",
    "y = df['mpg'].values"
   ],
   "outputs": [],
   "metadata": {}
  },
  {
   "cell_type": "code",
   "execution_count": null,
   "source": [
    "x_train, x_test, y_train, y_test = train_test_split(x, y, test_size=0.25, random_state=42)"
   ],
   "outputs": [],
   "metadata": {}
  },
  {
   "cell_type": "code",
   "execution_count": null,
   "source": [
    "model = Sequential()\n",
    "model.add(Dense(25, input_dim=x.shape[1], activation='relu'))\n",
    "model.add(Dense(10, activation='relu'))\n",
    "model.add(Dense(1))\n",
    "model.compile(loss='mean_squared_error', optimizer='adam')\n",
    "\n",
    "monitor = EarlyStopping(monitor='val_loss', min_delta=1e-3, patience=5, verbose=1, mode='auto', restore_best_weights=True)\n",
    "\n",
    "model.fit(x_train, y_train, validation_data=(x_test, y_test), callbacks=[monitor], verbose=2, epochs=1000)"
   ],
   "outputs": [
    {
     "output_type": "stream",
     "name": "stderr",
     "text": [
      "2021-09-27 18:15:19.832913: I tensorflow/core/platform/cpu_feature_guard.cc:143] Your CPU supports instructions that this TensorFlow binary was not compiled to use: SSE4.1 SSE4.2 AVX\n",
      "2021-09-27 18:15:19.844418: I tensorflow/core/platform/profile_utils/cpu_utils.cc:102] CPU Frequency: 3501000000 Hz\n",
      "2021-09-27 18:15:19.846031: I tensorflow/compiler/xla/service/service.cc:168] XLA service 0x7fffca3ce4b0 initialized for platform Host (this does not guarantee that XLA will be used). Devices:\n",
      "2021-09-27 18:15:19.846087: I tensorflow/compiler/xla/service/service.cc:176]   StreamExecutor device (0): Host, Default Version\n",
      "2021-09-27 18:15:19.846433: I tensorflow/core/common_runtime/process_util.cc:147] Creating new thread pool with default inter op setting: 2. Tune using inter_op_parallelism_threads for best performance.\n"
     ]
    },
    {
     "output_type": "stream",
     "name": "stdout",
     "text": [
      "Epoch 1/1000\n",
      "10/10 - 0s - loss: 123.8522 - val_loss: 69.7055\n",
      "Epoch 2/1000\n",
      "10/10 - 0s - loss: 58.1384 - val_loss: 39.9842\n",
      "Epoch 3/1000\n",
      "10/10 - 0s - loss: 42.8950 - val_loss: 34.6583\n",
      "Epoch 4/1000\n",
      "10/10 - 0s - loss: 39.8445 - val_loss: 37.8921\n",
      "Epoch 5/1000\n",
      "10/10 - 0s - loss: 41.3943 - val_loss: 40.6058\n",
      "Epoch 6/1000\n",
      "10/10 - 0s - loss: 40.9651 - val_loss: 34.0500\n",
      "Epoch 7/1000\n",
      "10/10 - 0s - loss: 38.1200 - val_loss: 32.5002\n",
      "Epoch 8/1000\n",
      "10/10 - 0s - loss: 37.0291 - val_loss: 32.9619\n",
      "Epoch 9/1000\n",
      "10/10 - 0s - loss: 36.3789 - val_loss: 32.7145\n",
      "Epoch 10/1000\n",
      "10/10 - 0s - loss: 37.5485 - val_loss: 33.6797\n",
      "Epoch 11/1000\n",
      "10/10 - 0s - loss: 36.4623 - val_loss: 30.2199\n",
      "Epoch 12/1000\n",
      "10/10 - 0s - loss: 34.3975 - val_loss: 30.0615\n",
      "Epoch 13/1000\n",
      "10/10 - 0s - loss: 35.7266 - val_loss: 29.3111\n",
      "Epoch 14/1000\n",
      "10/10 - 0s - loss: 34.3654 - val_loss: 29.7833\n",
      "Epoch 15/1000\n",
      "10/10 - 0s - loss: 33.5176 - val_loss: 29.2222\n",
      "Epoch 16/1000\n",
      "10/10 - 0s - loss: 34.6995 - val_loss: 57.6253\n",
      "Epoch 17/1000\n",
      "10/10 - 0s - loss: 43.3561 - val_loss: 26.2286\n",
      "Epoch 18/1000\n",
      "10/10 - 0s - loss: 34.3410 - val_loss: 41.1059\n",
      "Epoch 19/1000\n",
      "10/10 - 0s - loss: 32.6692 - val_loss: 32.5566\n",
      "Epoch 20/1000\n",
      "10/10 - 0s - loss: 31.6040 - val_loss: 25.6380\n",
      "Epoch 21/1000\n",
      "10/10 - 0s - loss: 29.7696 - val_loss: 24.1866\n",
      "Epoch 22/1000\n",
      "10/10 - 0s - loss: 28.9821 - val_loss: 23.4465\n",
      "Epoch 23/1000\n",
      "10/10 - 0s - loss: 29.9093 - val_loss: 25.2152\n",
      "Epoch 24/1000\n",
      "10/10 - 0s - loss: 26.5123 - val_loss: 23.6269\n",
      "Epoch 25/1000\n",
      "10/10 - 0s - loss: 27.8211 - val_loss: 22.8440\n",
      "Epoch 26/1000\n",
      "10/10 - 0s - loss: 26.9704 - val_loss: 22.8631\n",
      "Epoch 27/1000\n",
      "10/10 - 0s - loss: 25.6753 - val_loss: 22.8157\n",
      "Epoch 28/1000\n",
      "10/10 - 0s - loss: 25.0704 - val_loss: 25.9088\n",
      "Epoch 29/1000\n",
      "10/10 - 0s - loss: 27.5127 - val_loss: 20.2599\n",
      "Epoch 30/1000\n",
      "10/10 - 0s - loss: 25.5207 - val_loss: 20.5743\n",
      "Epoch 31/1000\n",
      "10/10 - 0s - loss: 27.1223 - val_loss: 21.8117\n",
      "Epoch 32/1000\n",
      "10/10 - 0s - loss: 23.5002 - val_loss: 19.4521\n",
      "Epoch 33/1000\n",
      "10/10 - 0s - loss: 23.8814 - val_loss: 18.3922\n",
      "Epoch 34/1000\n",
      "10/10 - 0s - loss: 22.9321 - val_loss: 18.5447\n",
      "Epoch 35/1000\n",
      "10/10 - 0s - loss: 21.2784 - val_loss: 18.4465\n",
      "Epoch 36/1000\n",
      "10/10 - 0s - loss: 23.2531 - val_loss: 19.2102\n",
      "Epoch 37/1000\n",
      "10/10 - 0s - loss: 21.0412 - val_loss: 21.0931\n",
      "Epoch 38/1000\n",
      "10/10 - 0s - loss: 22.2951 - val_loss: 16.3598\n",
      "Epoch 39/1000\n",
      "10/10 - 0s - loss: 19.7576 - val_loss: 15.9953\n",
      "Epoch 40/1000\n",
      "10/10 - 0s - loss: 19.7041 - val_loss: 23.3055\n",
      "Epoch 41/1000\n",
      "10/10 - 0s - loss: 21.4594 - val_loss: 16.0567\n",
      "Epoch 42/1000\n",
      "10/10 - 0s - loss: 18.8966 - val_loss: 17.4294\n",
      "Epoch 43/1000\n",
      "10/10 - 0s - loss: 19.2552 - val_loss: 21.1208\n",
      "Epoch 44/1000\n",
      "Restoring model weights from the end of the best epoch.\n",
      "10/10 - 0s - loss: 20.9586 - val_loss: 20.6562\n",
      "Epoch 00044: early stopping\n"
     ]
    },
    {
     "output_type": "execute_result",
     "data": {
      "text/plain": [
       "<tensorflow.python.keras.callbacks.History at 0x7f8d5035da50>"
      ]
     },
     "metadata": {},
     "execution_count": 7
    }
   ],
   "metadata": {}
  },
  {
   "cell_type": "code",
   "execution_count": null,
   "source": [
    "prediction = model.predict(x_test)\n",
    "score = np.sqrt(metrics.mean_squared_error(prediction, y_test))\n",
    "print(f'After the training the score is {score}')"
   ],
   "outputs": [
    {
     "output_type": "stream",
     "name": "stdout",
     "text": [
      "After the training the score is 3.9994123474440983\n"
     ]
    }
   ],
   "metadata": {}
  },
  {
   "cell_type": "code",
   "execution_count": null,
   "source": [
    "if not os.getcwd == 'Models':\n",
    "    os.chdir('Models')\n",
    "os.getcwd()\n",
    "model.save(os.path.join(os.getcwd(), 'mpg_model.h5'))"
   ],
   "outputs": [],
   "metadata": {}
  },
  {
   "cell_type": "code",
   "execution_count": null,
   "source": [
    "cols = [x for x in df.columns if x not in ('mpg', 'car name')]\n",
    "\n",
    "print('{')\n",
    "for i, name in enumerate(cols):\n",
    "    print(f'{name}: (min:{df[name].min()}, max: {df[name].max()}){\",\" if i<(len(cols)-1) else \"\"}')\n",
    "print('}')"
   ],
   "outputs": [
    {
     "output_type": "stream",
     "name": "stdout",
     "text": [
      "{\n",
      "cylinders: (min:3, max: 8),\n",
      "displacement: (min:68.0, max: 455.0),\n",
      "horsepower: (min:46.0, max: 230.0),\n",
      "weight: (min:1613, max: 5140),\n",
      "acceleration: (min:8.0, max: 24.8),\n",
      "model year: (min:70, max: 82),\n",
      "origin: (min:1, max: 3)\n",
      "}\n"
     ]
    }
   ],
   "metadata": {}
  }
 ],
 "metadata": {
  "orig_nbformat": 4,
  "language_info": {
   "name": "python",
   "version": "3.7.9",
   "mimetype": "text/x-python",
   "codemirror_mode": {
    "name": "ipython",
    "version": 3
   },
   "pygments_lexer": "ipython3",
   "nbconvert_exporter": "python",
   "file_extension": ".py"
  },
  "kernelspec": {
   "name": "python3",
   "display_name": "Python 3.7.9 64-bit ('tensorflow': conda)"
  },
  "interpreter": {
   "hash": "31d94936c292a89639dcc941b94dff496b473e8862f648d3cf1fe088e3ebc300"
  }
 },
 "nbformat": 4,
 "nbformat_minor": 2
}