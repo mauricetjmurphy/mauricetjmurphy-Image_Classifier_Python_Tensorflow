{
 "cells": [
  {
   "cell_type": "code",
   "execution_count": null,
   "source": [
    "import os\n",
    "from tensorflow.keras.models import load_model\n",
    "import numpy as np\n",
    "\n",
    "\n",
    "model = load_model('Models/mpg_model.h5')"
   ],
   "outputs": [],
   "metadata": {}
  },
  {
   "cell_type": "code",
   "execution_count": null,
   "source": [
    "model.summary()"
   ],
   "outputs": [],
   "metadata": {}
  },
  {
   "cell_type": "code",
   "execution_count": null,
   "source": [
    "x = np.zeros((1,7))"
   ],
   "outputs": [],
   "metadata": {}
  },
  {
   "cell_type": "code",
   "execution_count": null,
   "source": [
    "x[0,0] = 8\n",
    "x[0,1] = 400\n",
    "x[0,2] = 80\n",
    "x[0,3] = 2000\n",
    "x[0,4] = 19\n",
    "x[0,5] = 72\n",
    "x[0,6] = 1\n",
    "x"
   ],
   "outputs": [],
   "metadata": {}
  },
  {
   "cell_type": "code",
   "execution_count": null,
   "source": [
    "prediction = model.predict(x)\n",
    "float(prediction[0])"
   ],
   "outputs": [],
   "metadata": {}
  },
  {
   "cell_type": "code",
   "execution_count": null,
   "source": [
    "import requests\n",
    "json = {\n",
    "    \"cylinders\": 8,\n",
    "    \"displacement\": 300,\n",
    "    \"horsepower\": 38,\n",
    "    \"weight\": 3500,\n",
    "    \"acceleration\": 20,\n",
    "    \"model year\": 76,\n",
    "    \"origin\": 1\n",
    "}\n",
    "r = requests.post('http://localhost:5000/api', json=json)\n",
    "if r.status_code == 200:\n",
    "    print(f'Works: {r.text}')\n",
    "else:\n",
    "    print(f'Failed: {r.text}')"
   ],
   "outputs": [],
   "metadata": {}
  }
 ],
 "metadata": {
  "orig_nbformat": 4,
  "language_info": {
   "name": "python",
   "version": "3.7.9",
   "mimetype": "text/x-python",
   "codemirror_mode": {
    "name": "ipython",
    "version": 3
   },
   "pygments_lexer": "ipython3",
   "nbconvert_exporter": "python",
   "file_extension": ".py"
  },
  "kernelspec": {
   "name": "python3",
   "display_name": "Python 3.7.9 64-bit ('tensorflow': conda)"
  },
  "interpreter": {
   "hash": "31d94936c292a89639dcc941b94dff496b473e8862f648d3cf1fe088e3ebc300"
  }
 },
 "nbformat": 4,
 "nbformat_minor": 2
}